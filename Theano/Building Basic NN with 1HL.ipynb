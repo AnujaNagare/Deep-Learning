{
 "cells": [
  {
   "cell_type": "markdown",
   "metadata": {},
   "source": []
  },
  {
   "cell_type": "code",
   "execution_count": 27,
   "metadata": {},
   "outputs": [],
   "source": [
    "# A 1-hidden-layer neural network in Theano.\n",
    "# This code is not optimized for speed.\n",
    "\n",
    "import numpy as np\n",
    "import theano\n",
    "import theano.tensor as T\n",
    "import matplotlib.pyplot as plt\n",
    "%matplotlib inline  \n",
    "# from util import get_normalized_data, y2indicator\n",
    "import pandas as pd\n",
    "import numpy as np"
   ]
  },
  {
   "cell_type": "code",
   "execution_count": 28,
   "metadata": {
    "collapsed": true
   },
   "outputs": [],
   "source": [
    "def get_normalized_data():\n",
    "    print(\"Reading in and transforming data...\")\n",
    "\n",
    "    df = pd.read_csv('./large_files/train.csv')\n",
    "    data = df.as_matrix().astype(np.float32)\n",
    "    np.random.shuffle(data)\n",
    "    X = data[:, 1:]\n",
    "    mu = X.mean(axis=0)\n",
    "    std = X.std(axis=0)\n",
    "    np.place(std, std == 0, 1)\n",
    "    X = (X - mu) / std # normalize the data\n",
    "    Y = data[:, 0]\n",
    "    return X, Y"
   ]
  },
  {
   "cell_type": "code",
   "execution_count": 32,
   "metadata": {
    "collapsed": true
   },
   "outputs": [],
   "source": [
    "def y2indicator(y):\n",
    "    N = len(y)\n",
    "    y = y.astype(np.int32)\n",
    "    ind = np.zeros((N, 10))\n",
    "    for i in range(N):\n",
    "        ind[i, y[i]] = 1\n",
    "    return ind"
   ]
  },
  {
   "cell_type": "code",
   "execution_count": 33,
   "metadata": {},
   "outputs": [],
   "source": [
    "def error_rate(p, t):\n",
    "    return np.mean(p != t)\n",
    "\n",
    "def relu(a):\n",
    "    return a * (a > 0)"
   ]
  },
  {
   "cell_type": "code",
   "execution_count": 49,
   "metadata": {},
   "outputs": [
    {
     "name": "stdout",
     "output_type": "stream",
     "text": [
      "Reading in and transforming data...\n"
     ]
    }
   ],
   "source": [
    "# step 1: get the data and define all the usual variables\n",
    "X, Y = get_normalized_data()"
   ]
  },
  {
   "cell_type": "code",
   "execution_count": 50,
   "metadata": {
    "collapsed": true
   },
   "outputs": [],
   "source": [
    "max_iter = 20\n",
    "print_period = 10\n",
    "\n",
    "lr = 0.00004\n",
    "reg = 0.01\n",
    "\n",
    "Xtrain = X[:-1000,]\n",
    "Ytrain = Y[:-1000]\n",
    "Xtest  = X[-1000:,]\n",
    "Ytest  = Y[-1000:]"
   ]
  },
  {
   "cell_type": "code",
   "execution_count": 51,
   "metadata": {
    "collapsed": true
   },
   "outputs": [],
   "source": [
    "Ytrain_ind = y2indicator(Ytrain)\n",
    "Ytest_ind = y2indicator(Ytest)"
   ]
  },
  {
   "cell_type": "code",
   "execution_count": 52,
   "metadata": {
    "collapsed": true
   },
   "outputs": [],
   "source": [
    "N, D = Xtrain.shape\n",
    "batch_sz = 500\n",
    "n_batches = N // batch_sz\n",
    "\n",
    "M = 300\n",
    "K = 10\n",
    "W1_init = np.random.randn(D, M) / 28\n",
    "b1_init = np.zeros(M)\n",
    "W2_init = np.random.randn(M, K) / np.sqrt(M)\n",
    "b2_init = np.zeros(K)"
   ]
  },
  {
   "cell_type": "code",
   "execution_count": 53,
   "metadata": {},
   "outputs": [
    {
     "data": {
      "text/plain": [
       "(300, 10)"
      ]
     },
     "execution_count": 53,
     "metadata": {},
     "output_type": "execute_result"
    }
   ],
   "source": [
    "np.shape(np.random.randn(D, M) / 28)\n",
    "np.shape(np.random.randn(M, K) / np.sqrt(M))"
   ]
  },
  {
   "cell_type": "code",
   "execution_count": 54,
   "metadata": {},
   "outputs": [],
   "source": [
    "# step 2: define theano variables and expressions\n",
    "thX = T.matrix('X')\n",
    "thT = T.matrix('T')\n",
    "W1 = theano.shared(W1_init, 'W1')\n",
    "b1 = theano.shared(b1_init, 'b1')\n",
    "W2 = theano.shared(W2_init, 'W2')\n",
    "b2 = theano.shared(b2_init, 'b2')\n",
    "\n",
    "# we can use the built-in theano functions to do relu and softmax\n",
    "thZ = relu( thX.dot(W1) + b1 ) # relu is new in version 0.7.1 but just in case you don't have it\n",
    "thY = T.nnet.softmax( thZ.dot(W2) + b2 )\n",
    "\n",
    "# define the cost function and prediction\n",
    "cost = -(thT * T.log(thY)).sum() + reg*((W1*W1).sum() + (b1*b1).sum() + (W2*W2).sum() + (b2*b2).sum())\n",
    "prediction = T.argmax(thY, axis=1)"
   ]
  },
  {
   "cell_type": "code",
   "execution_count": 55,
   "metadata": {},
   "outputs": [
    {
     "name": "stdout",
     "output_type": "stream",
     "text": [
      "Cost / err at iteration i=0, j=0: 2380.889 / 0.854\n",
      "Cost / err at iteration i=0, j=10: 1797.146 / 0.502\n",
      "Cost / err at iteration i=0, j=20: 1437.243 / 0.362\n",
      "Cost / err at iteration i=0, j=30: 1197.259 / 0.265\n",
      "Cost / err at iteration i=0, j=40: 1028.302 / 0.213\n",
      "Cost / err at iteration i=0, j=50: 905.242 / 0.182\n",
      "Cost / err at iteration i=0, j=60: 813.534 / 0.172\n",
      "Cost / err at iteration i=0, j=70: 743.273 / 0.156\n",
      "Cost / err at iteration i=0, j=80: 685.248 / 0.150\n",
      "Cost / err at iteration i=1, j=0: 674.329 / 0.144\n",
      "Cost / err at iteration i=1, j=10: 630.691 / 0.141\n",
      "Cost / err at iteration i=1, j=20: 594.920 / 0.134\n",
      "Cost / err at iteration i=1, j=30: 564.808 / 0.133\n",
      "Cost / err at iteration i=1, j=40: 536.480 / 0.123\n",
      "Cost / err at iteration i=1, j=50: 513.407 / 0.123\n",
      "Cost / err at iteration i=1, j=60: 493.628 / 0.117\n",
      "Cost / err at iteration i=1, j=70: 477.180 / 0.113\n",
      "Cost / err at iteration i=1, j=80: 460.479 / 0.115\n",
      "Cost / err at iteration i=2, j=0: 457.289 / 0.114\n",
      "Cost / err at iteration i=2, j=10: 444.010 / 0.110\n",
      "Cost / err at iteration i=2, j=20: 432.412 / 0.109\n",
      "Cost / err at iteration i=2, j=30: 422.208 / 0.107\n",
      "Cost / err at iteration i=2, j=40: 410.666 / 0.105\n",
      "Cost / err at iteration i=2, j=50: 401.610 / 0.105\n",
      "Cost / err at iteration i=2, j=60: 393.548 / 0.102\n",
      "Cost / err at iteration i=2, j=70: 386.612 / 0.104\n",
      "Cost / err at iteration i=2, j=80: 378.287 / 0.099\n",
      "Cost / err at iteration i=3, j=0: 376.727 / 0.097\n",
      "Cost / err at iteration i=3, j=10: 370.153 / 0.096\n",
      "Cost / err at iteration i=3, j=20: 364.508 / 0.098\n",
      "Cost / err at iteration i=3, j=30: 359.385 / 0.097\n",
      "Cost / err at iteration i=3, j=40: 352.822 / 0.095\n",
      "Cost / err at iteration i=3, j=50: 348.133 / 0.095\n",
      "Cost / err at iteration i=3, j=60: 343.852 / 0.095\n",
      "Cost / err at iteration i=3, j=70: 340.061 / 0.095\n",
      "Cost / err at iteration i=3, j=80: 334.719 / 0.093\n",
      "Cost / err at iteration i=4, j=0: 333.703 / 0.092\n",
      "Cost / err at iteration i=4, j=10: 329.618 / 0.090\n",
      "Cost / err at iteration i=4, j=20: 326.244 / 0.090\n",
      "Cost / err at iteration i=4, j=30: 323.004 / 0.087\n",
      "Cost / err at iteration i=4, j=40: 318.559 / 0.085\n",
      "Cost / err at iteration i=4, j=50: 315.697 / 0.086\n",
      "Cost / err at iteration i=4, j=60: 312.967 / 0.084\n",
      "Cost / err at iteration i=4, j=70: 310.585 / 0.087\n",
      "Cost / err at iteration i=4, j=80: 306.713 / 0.085\n",
      "Cost / err at iteration i=5, j=0: 305.941 / 0.084\n",
      "Cost / err at iteration i=5, j=10: 303.023 / 0.085\n",
      "Cost / err at iteration i=5, j=20: 300.753 / 0.086\n",
      "Cost / err at iteration i=5, j=30: 298.483 / 0.084\n",
      "Cost / err at iteration i=5, j=40: 295.147 / 0.082\n",
      "Cost / err at iteration i=5, j=50: 293.235 / 0.083\n",
      "Cost / err at iteration i=5, j=60: 291.289 / 0.083\n",
      "Cost / err at iteration i=5, j=70: 289.701 / 0.086\n",
      "Cost / err at iteration i=5, j=80: 286.695 / 0.083\n",
      "Cost / err at iteration i=6, j=0: 286.060 / 0.082\n",
      "Cost / err at iteration i=6, j=10: 283.800 / 0.082\n",
      "Cost / err at iteration i=6, j=20: 282.150 / 0.084\n",
      "Cost / err at iteration i=6, j=30: 280.463 / 0.083\n",
      "Cost / err at iteration i=6, j=40: 277.798 / 0.081\n",
      "Cost / err at iteration i=6, j=50: 276.458 / 0.081\n",
      "Cost / err at iteration i=6, j=60: 275.008 / 0.081\n",
      "Cost / err at iteration i=6, j=70: 273.882 / 0.083\n",
      "Cost / err at iteration i=6, j=80: 271.398 / 0.083\n",
      "Cost / err at iteration i=7, j=0: 270.846 / 0.081\n",
      "Cost / err at iteration i=7, j=10: 268.957 / 0.082\n",
      "Cost / err at iteration i=7, j=20: 267.655 / 0.081\n",
      "Cost / err at iteration i=7, j=30: 266.266 / 0.081\n",
      "Cost / err at iteration i=7, j=40: 264.017 / 0.079\n",
      "Cost / err at iteration i=7, j=50: 263.052 / 0.079\n",
      "Cost / err at iteration i=7, j=60: 261.920 / 0.080\n",
      "Cost / err at iteration i=7, j=70: 261.085 / 0.079\n",
      "Cost / err at iteration i=7, j=80: 258.963 / 0.079\n",
      "Cost / err at iteration i=8, j=0: 258.467 / 0.079\n",
      "Cost / err at iteration i=8, j=10: 256.831 / 0.078\n",
      "Cost / err at iteration i=8, j=20: 255.761 / 0.075\n",
      "Cost / err at iteration i=8, j=30: 254.531 / 0.077\n",
      "Cost / err at iteration i=8, j=40: 252.605 / 0.076\n",
      "Cost / err at iteration i=8, j=50: 251.903 / 0.074\n",
      "Cost / err at iteration i=8, j=60: 251.010 / 0.076\n",
      "Cost / err at iteration i=8, j=70: 250.377 / 0.075\n",
      "Cost / err at iteration i=8, j=80: 248.525 / 0.074\n",
      "Cost / err at iteration i=9, j=0: 248.070 / 0.074\n",
      "Cost / err at iteration i=9, j=10: 246.646 / 0.074\n",
      "Cost / err at iteration i=9, j=20: 245.752 / 0.072\n",
      "Cost / err at iteration i=9, j=30: 244.672 / 0.072\n",
      "Cost / err at iteration i=9, j=40: 242.977 / 0.072\n",
      "Cost / err at iteration i=9, j=50: 242.474 / 0.072\n",
      "Cost / err at iteration i=9, j=60: 241.746 / 0.071\n",
      "Cost / err at iteration i=9, j=70: 241.233 / 0.072\n",
      "Cost / err at iteration i=9, j=80: 239.593 / 0.072\n",
      "Cost / err at iteration i=10, j=0: 239.181 / 0.071\n",
      "Cost / err at iteration i=10, j=10: 237.931 / 0.073\n",
      "Cost / err at iteration i=10, j=20: 237.171 / 0.072\n",
      "Cost / err at iteration i=10, j=30: 236.201 / 0.072\n",
      "Cost / err at iteration i=10, j=40: 234.665 / 0.070\n",
      "Cost / err at iteration i=10, j=50: 234.287 / 0.069\n",
      "Cost / err at iteration i=10, j=60: 233.691 / 0.068\n",
      "Cost / err at iteration i=10, j=70: 233.283 / 0.070\n",
      "Cost / err at iteration i=10, j=80: 231.799 / 0.069\n",
      "Cost / err at iteration i=11, j=0: 231.415 / 0.070\n",
      "Cost / err at iteration i=11, j=10: 230.290 / 0.071\n",
      "Cost / err at iteration i=11, j=20: 229.628 / 0.070\n",
      "Cost / err at iteration i=11, j=30: 228.755 / 0.069\n",
      "Cost / err at iteration i=11, j=40: 227.362 / 0.069\n",
      "Cost / err at iteration i=11, j=50: 227.090 / 0.068\n",
      "Cost / err at iteration i=11, j=60: 226.604 / 0.067\n",
      "Cost / err at iteration i=11, j=70: 226.273 / 0.068\n",
      "Cost / err at iteration i=11, j=80: 224.916 / 0.069\n",
      "Cost / err at iteration i=12, j=0: 224.561 / 0.069\n",
      "Cost / err at iteration i=12, j=10: 223.543 / 0.068\n",
      "Cost / err at iteration i=12, j=20: 222.955 / 0.067\n",
      "Cost / err at iteration i=12, j=30: 222.164 / 0.067\n",
      "Cost / err at iteration i=12, j=40: 220.869 / 0.068\n",
      "Cost / err at iteration i=12, j=50: 220.685 / 0.066\n",
      "Cost / err at iteration i=12, j=60: 220.288 / 0.065\n",
      "Cost / err at iteration i=12, j=70: 220.008 / 0.067\n",
      "Cost / err at iteration i=12, j=80: 218.743 / 0.067\n",
      "Cost / err at iteration i=13, j=0: 218.419 / 0.066\n",
      "Cost / err at iteration i=13, j=10: 217.481 / 0.065\n",
      "Cost / err at iteration i=13, j=20: 216.958 / 0.066\n",
      "Cost / err at iteration i=13, j=30: 216.242 / 0.065\n",
      "Cost / err at iteration i=13, j=40: 215.026 / 0.064\n",
      "Cost / err at iteration i=13, j=50: 214.912 / 0.064\n",
      "Cost / err at iteration i=13, j=60: 214.580 / 0.063\n",
      "Cost / err at iteration i=13, j=70: 214.353 / 0.064\n",
      "Cost / err at iteration i=13, j=80: 213.172 / 0.065\n",
      "Cost / err at iteration i=14, j=0: 212.862 / 0.064\n",
      "Cost / err at iteration i=14, j=10: 212.002 / 0.062\n",
      "Cost / err at iteration i=14, j=20: 211.529 / 0.064\n",
      "Cost / err at iteration i=14, j=30: 210.871 / 0.062\n",
      "Cost / err at iteration i=14, j=40: 209.711 / 0.061\n",
      "Cost / err at iteration i=14, j=50: 209.664 / 0.062\n",
      "Cost / err at iteration i=14, j=60: 209.401 / 0.060\n",
      "Cost / err at iteration i=14, j=70: 209.218 / 0.060\n",
      "Cost / err at iteration i=14, j=80: 208.103 / 0.061\n",
      "Cost / err at iteration i=15, j=0: 207.809 / 0.061\n",
      "Cost / err at iteration i=15, j=10: 207.010 / 0.061\n",
      "Cost / err at iteration i=15, j=20: 206.578 / 0.060\n",
      "Cost / err at iteration i=15, j=30: 205.966 / 0.061\n",
      "Cost / err at iteration i=15, j=40: 204.859 / 0.061\n",
      "Cost / err at iteration i=15, j=50: 204.861 / 0.060\n",
      "Cost / err at iteration i=15, j=60: 204.648 / 0.060\n",
      "Cost / err at iteration i=15, j=70: 204.503 / 0.060\n",
      "Cost / err at iteration i=15, j=80: 203.455 / 0.061\n",
      "Cost / err at iteration i=16, j=0: 203.175 / 0.061\n",
      "Cost / err at iteration i=16, j=10: 202.429 / 0.060\n",
      "Cost / err at iteration i=16, j=20: 202.039 / 0.060\n",
      "Cost / err at iteration i=16, j=30: 201.474 / 0.060\n",
      "Cost / err at iteration i=16, j=40: 200.409 / 0.060\n",
      "Cost / err at iteration i=16, j=50: 200.452 / 0.060\n",
      "Cost / err at iteration i=16, j=60: 200.284 / 0.060\n",
      "Cost / err at iteration i=16, j=70: 200.156 / 0.060\n",
      "Cost / err at iteration i=16, j=80: 199.164 / 0.061\n",
      "Cost / err at iteration i=17, j=0: 198.900 / 0.061\n",
      "Cost / err at iteration i=17, j=10: 198.195 / 0.060\n",
      "Cost / err at iteration i=17, j=20: 197.830 / 0.060\n",
      "Cost / err at iteration i=17, j=30: 197.302 / 0.060\n",
      "Cost / err at iteration i=17, j=40: 196.278 / 0.060\n",
      "Cost / err at iteration i=17, j=50: 196.347 / 0.060\n",
      "Cost / err at iteration i=17, j=60: 196.227 / 0.059\n",
      "Cost / err at iteration i=17, j=70: 196.123 / 0.059\n"
     ]
    },
    {
     "name": "stdout",
     "output_type": "stream",
     "text": [
      "Cost / err at iteration i=17, j=80: 195.175 / 0.061\n",
      "Cost / err at iteration i=18, j=0: 194.933 / 0.061\n",
      "Cost / err at iteration i=18, j=10: 194.259 / 0.061\n",
      "Cost / err at iteration i=18, j=20: 193.917 / 0.060\n",
      "Cost / err at iteration i=18, j=30: 193.422 / 0.059\n",
      "Cost / err at iteration i=18, j=40: 192.426 / 0.058\n",
      "Cost / err at iteration i=18, j=50: 192.516 / 0.057\n",
      "Cost / err at iteration i=18, j=60: 192.438 / 0.058\n",
      "Cost / err at iteration i=18, j=70: 192.347 / 0.057\n",
      "Cost / err at iteration i=18, j=80: 191.444 / 0.060\n",
      "Cost / err at iteration i=19, j=0: 191.213 / 0.060\n",
      "Cost / err at iteration i=19, j=10: 190.581 / 0.060\n",
      "Cost / err at iteration i=19, j=20: 190.260 / 0.058\n",
      "Cost / err at iteration i=19, j=30: 189.797 / 0.058\n",
      "Cost / err at iteration i=19, j=40: 188.833 / 0.059\n",
      "Cost / err at iteration i=19, j=50: 188.944 / 0.057\n",
      "Cost / err at iteration i=19, j=60: 188.899 / 0.059\n",
      "Cost / err at iteration i=19, j=70: 188.830 / 0.057\n",
      "Cost / err at iteration i=19, j=80: 187.969 / 0.058\n"
     ]
    }
   ],
   "source": [
    "# step 3: training expressions and functions\n",
    "# we can just include regularization as part of the cost because it is also automatically differentiated!\n",
    "# update_W1 = W1 - lr*(T.grad(cost, W1) + reg*W1)\n",
    "# update_b1 = b1 - lr*(T.grad(cost, b1) + reg*b1)\n",
    "# update_W2 = W2 - lr*(T.grad(cost, W2) + reg*W2)\n",
    "# update_b2 = b2 - lr*(T.grad(cost, b2) + reg*b2)\n",
    "update_W1 = W1 - lr*T.grad(cost, W1)\n",
    "update_b1 = b1 - lr*T.grad(cost, b1)\n",
    "update_W2 = W2 - lr*T.grad(cost, W2)\n",
    "update_b2 = b2 - lr*T.grad(cost, b2)\n",
    "\n",
    "train = theano.function(\n",
    "    inputs=[thX, thT],\n",
    "    updates=[(W1, update_W1), (b1, update_b1), (W2, update_W2), (b2, update_b2)],\n",
    ")\n",
    "\n",
    "# create another function for this because we want it over the whole dataset\n",
    "get_prediction = theano.function(\n",
    "    inputs=[thX, thT],\n",
    "    outputs=[cost, prediction],\n",
    ")\n",
    "\n",
    "costs = []\n",
    "for i in range(max_iter):\n",
    "    for j in range(n_batches):\n",
    "        Xbatch = Xtrain[j*batch_sz:(j*batch_sz + batch_sz),]\n",
    "        Ybatch = Ytrain_ind[j*batch_sz:(j*batch_sz + batch_sz),]\n",
    "\n",
    "        train(Xbatch, Ybatch)\n",
    "        if j % print_period == 0:\n",
    "            cost_val, prediction_val = get_prediction(Xtest, Ytest_ind)\n",
    "            err = error_rate(prediction_val, Ytest)\n",
    "            print(\"Cost / err at iteration i=%d, j=%d: %.3f / %.3f\" % (i, j, cost_val, err))\n",
    "            costs.append(cost_val)\n",
    "# how would you incorporate momentum into the gradient descent procedure?"
   ]
  },
  {
   "cell_type": "code",
   "execution_count": 56,
   "metadata": {},
   "outputs": [
    {
     "data": {
      "image/png": "[encoded data removed]",
      "text/plain": [
       "<matplotlib.figure.Figure at 0x1c18d933c8>"
      ]
     },
     "metadata": {},
     "output_type": "display_data"
    }
   ],
   "source": [
    "plt.plot(costs)\n",
    "plt.show()"
   ]
  },
  {
   "cell_type": "code",
   "execution_count": null,
   "metadata": {
    "collapsed": true
   },
   "outputs": [],
   "source": []
  }
 ],
 "metadata": {
  "kernelspec": {
   "display_name": "Python 3",
   "language": "python",
   "name": "python3"
  },
  "language_info": {
   "codemirror_mode": {
    "name": "ipython",
    "version": 3
   },
   "file_extension": ".py",
   "mimetype": "text/x-python",
   "name": "python",
   "nbconvert_exporter": "python",
   "pygments_lexer": "ipython3",
   "version": "3.6.3"
  }
 },
 "nbformat": 4,
 "nbformat_minor": 2
}
